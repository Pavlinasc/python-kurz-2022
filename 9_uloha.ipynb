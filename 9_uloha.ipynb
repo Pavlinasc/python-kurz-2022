{
 "cells": [
  {
   "cell_type": "code",
   "execution_count": 1,
   "metadata": {},
   "outputs": [],
   "source": [
    "import pandas"
   ]
  },
  {
   "cell_type": "code",
   "execution_count": 2,
   "metadata": {},
   "outputs": [],
   "source": [
    "data = pandas.read_csv(\"temperature.csv\")"
   ]
  },
  {
   "cell_type": "code",
   "execution_count": 3,
   "metadata": {},
   "outputs": [
    {
     "name": "stdout",
     "output_type": "stream",
     "text": [
      "   Region  Country     City  Day  AvgTemperature\n",
      "0  Africa  Algeria  Algiers    1            62.0\n",
      "1  Africa  Algeria  Algiers    2            62.2\n",
      "2  Africa  Algeria  Algiers    3            65.7\n",
      "3  Africa  Algeria  Algiers    4            69.8\n",
      "4  Africa  Algeria  Algiers    5            63.8\n"
     ]
    }
   ],
   "source": [
    "print(data.head())"
   ]
  },
  {
   "cell_type": "code",
   "execution_count": 4,
   "metadata": {},
   "outputs": [
    {
     "name": "stdout",
     "output_type": "stream",
     "text": [
      "      Region         Country    City  Day  AvgTemperature\n",
      "2100  Europe  Czech Republic  Prague    1            43.5\n",
      "2101  Europe  Czech Republic  Prague    2            48.5\n",
      "2102  Europe  Czech Republic  Prague    3            44.4\n",
      "2103  Europe  Czech Republic  Prague    4            39.7\n",
      "2104  Europe  Czech Republic  Prague    5            40.6\n",
      "2105  Europe  Czech Republic  Prague    6            42.3\n",
      "2106  Europe  Czech Republic  Prague    7            43.5\n",
      "2107  Europe  Czech Republic  Prague    8            41.4\n",
      "2108  Europe  Czech Republic  Prague    9            43.8\n",
      "2109  Europe  Czech Republic  Prague   10            43.0\n",
      "2110  Europe  Czech Republic  Prague   11            39.5\n",
      "2111  Europe  Czech Republic  Prague   12            36.7\n",
      "2112  Europe  Czech Republic  Prague   13            35.8\n",
      "2113  Europe  Czech Republic  Prague   14            35.5\n",
      "2114  Europe  Czech Republic  Prague   15            39.1\n",
      "2115  Europe  Czech Republic  Prague   16            38.5\n",
      "2116  Europe  Czech Republic  Prague   17            36.6\n",
      "2117  Europe  Czech Republic  Prague   18            37.0\n",
      "2118  Europe  Czech Republic  Prague   19            37.5\n",
      "2119  Europe  Czech Republic  Prague   20            37.0\n",
      "2120  Europe  Czech Republic  Prague   21            41.3\n",
      "2121  Europe  Czech Republic  Prague   22            44.6\n",
      "2122  Europe  Czech Republic  Prague   23            41.8\n",
      "2123  Europe  Czech Republic  Prague   24            46.2\n",
      "2124  Europe  Czech Republic  Prague   25            43.3\n",
      "2125  Europe  Czech Republic  Prague   26            34.6\n",
      "2126  Europe  Czech Republic  Prague   27            36.1\n",
      "2127  Europe  Czech Republic  Prague   28            39.3\n",
      "2128  Europe  Czech Republic  Prague   29            36.9\n",
      "2129  Europe  Czech Republic  Prague   30            33.7\n"
     ]
    }
   ],
   "source": [
    "praha = data[data[\"City\"] == \"Prague\"]\n",
    "print(praha)"
   ]
  },
  {
   "cell_type": "code",
   "execution_count": 5,
   "metadata": {},
   "outputs": [
    {
     "name": "stdout",
     "output_type": "stream",
     "text": [
      "             Day  AvgTemperature\n",
      "count  30.000000       30.000000\n",
      "mean   15.500000       40.056667\n",
      "std     8.803408        3.735356\n",
      "min     1.000000       33.700000\n",
      "25%     8.250000       36.925000\n",
      "50%    15.500000       39.600000\n",
      "75%    22.750000       43.225000\n",
      "max    30.000000       48.500000\n"
     ]
    }
   ],
   "source": [
    "print(praha.describe())"
   ]
  },
  {
   "cell_type": "code",
   "execution_count": 6,
   "metadata": {},
   "outputs": [
    {
     "name": "stdout",
     "output_type": "stream",
     "text": [
      "             Region Country             City  Day  AvgTemperature\n",
      "30           Africa   Benin          Cotonou    1            81.7\n",
      "31           Africa   Benin          Cotonou    2            81.8\n",
      "32           Africa   Benin          Cotonou    3            83.6\n",
      "33           Africa   Benin          Cotonou    4            83.4\n",
      "34           Africa   Benin          Cotonou    5            80.3\n",
      "...             ...     ...              ...  ...             ...\n",
      "8011  North America      US      Brownsville    2            80.8\n",
      "8012  North America      US      Brownsville    3            81.1\n",
      "8015  North America      US      Brownsville    6            80.5\n",
      "8042  North America      US   Corpus Christi    3            80.2\n",
      "8074  North America      US  Dallas Ft Worth    5            80.1\n",
      "\n",
      "[722 rows x 5 columns]\n"
     ]
    }
   ],
   "source": [
    "vysokatemp = data[data[\"AvgTemperature\"] > 80]\n",
    "print(vysokatemp)"
   ]
  },
  {
   "cell_type": "code",
   "execution_count": 7,
   "metadata": {},
   "outputs": [
    {
     "name": "stdout",
     "output_type": "stream",
     "text": [
      "      Region   Country       City  Day  AvgTemperature\n",
      "1932  Europe   Albania     Tirana   13            60.3\n",
      "2402  Europe     Italy       Rome    3            62.2\n",
      "2404  Europe     Italy       Rome    5            60.4\n",
      "2580  Europe  Portugal     Lisbon    1            62.5\n",
      "2581  Europe  Portugal     Lisbon    2            63.2\n",
      "2582  Europe  Portugal     Lisbon    3            61.1\n",
      "2583  Europe  Portugal     Lisbon    4            61.6\n",
      "2602  Europe  Portugal     Lisbon   23            64.2\n",
      "2603  Europe  Portugal     Lisbon   24            62.6\n",
      "2701  Europe     Spain  Barcelona    2            63.8\n",
      "2702  Europe     Spain  Barcelona    3            63.1\n",
      "2703  Europe     Spain  Barcelona    4            63.5\n",
      "2704  Europe     Spain  Barcelona    5            61.6\n",
      "2730  Europe     Spain     Bilbao    1            62.9\n",
      "2731  Europe     Spain     Bilbao    2            66.3\n",
      "2732  Europe     Spain     Bilbao    3            63.8\n",
      "2751  Europe     Spain     Bilbao   22            62.7\n",
      "2752  Europe     Spain     Bilbao   23            69.5\n",
      "2753  Europe     Spain     Bilbao   24            62.5\n"
     ]
    }
   ],
   "source": [
    "europe = data[(data[\"AvgTemperature\"] > 60) & (data[\"Region\"] == \"Europe\")]\n",
    "print(europe)"
   ]
  },
  {
   "cell_type": "code",
   "execution_count": 8,
   "metadata": {},
   "outputs": [
    {
     "name": "stdout",
     "output_type": "stream",
     "text": [
      "             Region Country             City  Day  AvgTemperature\n",
      "30           Africa   Benin          Cotonou    1            81.7\n",
      "31           Africa   Benin          Cotonou    2            81.8\n",
      "32           Africa   Benin          Cotonou    3            83.6\n",
      "33           Africa   Benin          Cotonou    4            83.4\n",
      "34           Africa   Benin          Cotonou    5            80.3\n",
      "...             ...     ...              ...  ...             ...\n",
      "8011  North America      US      Brownsville    2            80.8\n",
      "8012  North America      US      Brownsville    3            81.1\n",
      "8015  North America      US      Brownsville    6            80.5\n",
      "8042  North America      US   Corpus Christi    3            80.2\n",
      "8074  North America      US  Dallas Ft Worth    5            80.1\n",
      "\n",
      "[772 rows x 5 columns]\n"
     ]
    }
   ],
   "source": [
    "extrem = data[(data[\"AvgTemperature\"] > 80) | (data[\"AvgTemperature\"] < -20)]\n",
    "print(extrem)"
   ]
  },
  {
   "cell_type": "code",
   "execution_count": null,
   "metadata": {},
   "outputs": [],
   "source": []
  }
 ],
 "metadata": {
  "kernelspec": {
   "display_name": "Python 3",
   "language": "python",
   "name": "python3"
  },
  "language_info": {
   "codemirror_mode": {
    "name": "ipython",
    "version": 3
   },
   "file_extension": ".py",
   "mimetype": "text/x-python",
   "name": "python",
   "nbconvert_exporter": "python",
   "pygments_lexer": "ipython3",
   "version": "3.10.10"
  },
  "orig_nbformat": 4
 },
 "nbformat": 4,
 "nbformat_minor": 2
}
